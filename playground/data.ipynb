{
 "cells": [
  {
   "cell_type": "code",
   "execution_count": 6,
   "metadata": {},
   "outputs": [],
   "source": [
    "from docx import Document\n",
    "import pandas as pd\n",
    "import json\n",
    "import os\n",
    "\n",
    "def extract_text_from_docx(file_path):\n",
    "    \"\"\"Extract text from a .docx file.\"\"\"\n",
    "    doc = Document(file_path)\n",
    "    paragraphs = [p.text for p in doc.paragraphs]\n",
    "    return \"\\n\".join(paragraphs)\n",
    "\n",
    "def combine_specific_docx_files_to_dict(file_paths):\n",
    "    \"\"\"Combine text from specific .docx files into a dictionary.\"\"\"\n",
    "    docx_dict = {}\n",
    "    for file_path in file_paths:\n",
    "        if os.path.exists(file_path):\n",
    "            text = extract_text_from_docx(file_path)\n",
    "            filename = os.path.basename(file_path)\n",
    "            docx_dict[filename] = text\n",
    "        else:\n",
    "            print(f\"File {file_path} does not exist.\")\n",
    "    return docx_dict\n",
    "\n",
    "def save_dict_to_json(data, file_path):\n",
    "    \"\"\"Save dictionary to a JSON file.\"\"\"\n",
    "    with open(file_path, 'w', encoding='utf-8') as json_file:\n",
    "        json.dump(data, json_file, ensure_ascii=False, indent=4)\n",
    "\n",
    "# List of specific .docx file paths\n",
    "file_paths = [\n",
    "    '../data/Challenge _0.docx',\n",
    "    '../data/Challenge_1.docx',\n",
    "    '../data/Challenge_2.docx',\n",
    "    '../data/Challenge_3.docx',\n",
    "    '../data/Challenge_5.docx',\n",
    "    '../data/Challenge_6.docx',\n",
    "    '../data/Challenge_7.docx'\n",
    "]\n",
    "\n",
    "# Combine specified .docx files into a dictionary\n",
    "combined_dict = combine_specific_docx_files_to_dict(file_paths)\n",
    "\n",
    "save_path = '../data/combined_docx_data.json'\n",
    "save_dict_to_json(combined_dict, save_path)\n"
   ]
  },
  {
   "cell_type": "code",
   "execution_count": null,
   "metadata": {},
   "outputs": [],
   "source": []
  }
 ],
 "metadata": {
  "kernelspec": {
   "display_name": "venv",
   "language": "python",
   "name": "python3"
  },
  "language_info": {
   "codemirror_mode": {
    "name": "ipython",
    "version": 3
   },
   "file_extension": ".py",
   "mimetype": "text/x-python",
   "name": "python",
   "nbconvert_exporter": "python",
   "pygments_lexer": "ipython3",
   "version": "3.12.3"
  }
 },
 "nbformat": 4,
 "nbformat_minor": 2
}
